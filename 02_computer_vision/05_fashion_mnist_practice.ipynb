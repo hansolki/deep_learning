{
  "cells": [
    {
      "cell_type": "code",
      "execution_count": 1,
      "metadata": {
        "id": "-xDc8eUo-fXK"
      },
      "outputs": [],
      "source": [
        "# TensorFlow와 Keras를 임포트합니다\n",
        "import tensorflow as tf                   # TensorFlow 라이브러리를 임포트합니다\n",
        "import keras                              # Keras 라이브러리를 임포트합니다\n",
        "from keras import Sequential              # Keras에서 Sequential 모델을 임포트합니다\n",
        "from keras.layers import Dense, Flatten   # Keras에서 Dense와 Flatten 레이어를 임포트합니다\n",
        "from keras.datasets import fashion_mnist  # Keras에서 fashion_mnist 데이터셋을 임포트합니다"
      ]
    },
    {
      "cell_type": "code",
      "execution_count": 2,
      "metadata": {
        "colab": {
          "base_uri": "https://localhost:8080/"
        },
        "id": "tAC4AV0b-V0m",
        "outputId": "dc9312cc-2004-4860-f0f5-6d17bd1de21c"
      },
      "outputs": [
        {
          "output_type": "stream",
          "name": "stdout",
          "text": [
            "Downloading data from https://storage.googleapis.com/tensorflow/tf-keras-datasets/train-labels-idx1-ubyte.gz\n",
            "29515/29515 [==============================] - 0s 0us/step\n",
            "Downloading data from https://storage.googleapis.com/tensorflow/tf-keras-datasets/train-images-idx3-ubyte.gz\n",
            "26421880/26421880 [==============================] - 0s 0us/step\n",
            "Downloading data from https://storage.googleapis.com/tensorflow/tf-keras-datasets/t10k-labels-idx1-ubyte.gz\n",
            "5148/5148 [==============================] - 0s 0us/step\n",
            "Downloading data from https://storage.googleapis.com/tensorflow/tf-keras-datasets/t10k-images-idx3-ubyte.gz\n",
            "4422102/4422102 [==============================] - 0s 0us/step\n"
          ]
        }
      ],
      "source": [
        "# Fashion MNIST 데이터셋을 로드합니다\n",
        "(train_images, train_labels), (test_images, test_labels) = fashion_mnist.load_data()\n",
        "\n",
        "# Fashion MNIST 데이터셋을 로드하고 훈련 이미지, 훈련 레이블, 테스트 이미지 및 테스트 레이블을 변수에 할당\n"
      ]
    },
    {
      "cell_type": "code",
      "source": [
        "train_images[0] #=> 0은 검은색, 225는 흰색"
      ],
      "metadata": {
        "colab": {
          "base_uri": "https://localhost:8080/"
        },
        "id": "M0IzM_TquyZG",
        "outputId": "0d3f050a-8508-4362-f78e-9d8a131dc847"
      },
      "execution_count": 3,
      "outputs": [
        {
          "output_type": "execute_result",
          "data": {
            "text/plain": [
              "array([[  0,   0,   0,   0,   0,   0,   0,   0,   0,   0,   0,   0,   0,\n",
              "          0,   0,   0,   0,   0,   0,   0,   0,   0,   0,   0,   0,   0,\n",
              "          0,   0],\n",
              "       [  0,   0,   0,   0,   0,   0,   0,   0,   0,   0,   0,   0,   0,\n",
              "          0,   0,   0,   0,   0,   0,   0,   0,   0,   0,   0,   0,   0,\n",
              "          0,   0],\n",
              "       [  0,   0,   0,   0,   0,   0,   0,   0,   0,   0,   0,   0,   0,\n",
              "          0,   0,   0,   0,   0,   0,   0,   0,   0,   0,   0,   0,   0,\n",
              "          0,   0],\n",
              "       [  0,   0,   0,   0,   0,   0,   0,   0,   0,   0,   0,   0,   1,\n",
              "          0,   0,  13,  73,   0,   0,   1,   4,   0,   0,   0,   0,   1,\n",
              "          1,   0],\n",
              "       [  0,   0,   0,   0,   0,   0,   0,   0,   0,   0,   0,   0,   3,\n",
              "          0,  36, 136, 127,  62,  54,   0,   0,   0,   1,   3,   4,   0,\n",
              "          0,   3],\n",
              "       [  0,   0,   0,   0,   0,   0,   0,   0,   0,   0,   0,   0,   6,\n",
              "          0, 102, 204, 176, 134, 144, 123,  23,   0,   0,   0,   0,  12,\n",
              "         10,   0],\n",
              "       [  0,   0,   0,   0,   0,   0,   0,   0,   0,   0,   0,   0,   0,\n",
              "          0, 155, 236, 207, 178, 107, 156, 161, 109,  64,  23,  77, 130,\n",
              "         72,  15],\n",
              "       [  0,   0,   0,   0,   0,   0,   0,   0,   0,   0,   0,   1,   0,\n",
              "         69, 207, 223, 218, 216, 216, 163, 127, 121, 122, 146, 141,  88,\n",
              "        172,  66],\n",
              "       [  0,   0,   0,   0,   0,   0,   0,   0,   0,   1,   1,   1,   0,\n",
              "        200, 232, 232, 233, 229, 223, 223, 215, 213, 164, 127, 123, 196,\n",
              "        229,   0],\n",
              "       [  0,   0,   0,   0,   0,   0,   0,   0,   0,   0,   0,   0,   0,\n",
              "        183, 225, 216, 223, 228, 235, 227, 224, 222, 224, 221, 223, 245,\n",
              "        173,   0],\n",
              "       [  0,   0,   0,   0,   0,   0,   0,   0,   0,   0,   0,   0,   0,\n",
              "        193, 228, 218, 213, 198, 180, 212, 210, 211, 213, 223, 220, 243,\n",
              "        202,   0],\n",
              "       [  0,   0,   0,   0,   0,   0,   0,   0,   0,   1,   3,   0,  12,\n",
              "        219, 220, 212, 218, 192, 169, 227, 208, 218, 224, 212, 226, 197,\n",
              "        209,  52],\n",
              "       [  0,   0,   0,   0,   0,   0,   0,   0,   0,   0,   6,   0,  99,\n",
              "        244, 222, 220, 218, 203, 198, 221, 215, 213, 222, 220, 245, 119,\n",
              "        167,  56],\n",
              "       [  0,   0,   0,   0,   0,   0,   0,   0,   0,   4,   0,   0,  55,\n",
              "        236, 228, 230, 228, 240, 232, 213, 218, 223, 234, 217, 217, 209,\n",
              "         92,   0],\n",
              "       [  0,   0,   1,   4,   6,   7,   2,   0,   0,   0,   0,   0, 237,\n",
              "        226, 217, 223, 222, 219, 222, 221, 216, 223, 229, 215, 218, 255,\n",
              "         77,   0],\n",
              "       [  0,   3,   0,   0,   0,   0,   0,   0,   0,  62, 145, 204, 228,\n",
              "        207, 213, 221, 218, 208, 211, 218, 224, 223, 219, 215, 224, 244,\n",
              "        159,   0],\n",
              "       [  0,   0,   0,   0,  18,  44,  82, 107, 189, 228, 220, 222, 217,\n",
              "        226, 200, 205, 211, 230, 224, 234, 176, 188, 250, 248, 233, 238,\n",
              "        215,   0],\n",
              "       [  0,  57, 187, 208, 224, 221, 224, 208, 204, 214, 208, 209, 200,\n",
              "        159, 245, 193, 206, 223, 255, 255, 221, 234, 221, 211, 220, 232,\n",
              "        246,   0],\n",
              "       [  3, 202, 228, 224, 221, 211, 211, 214, 205, 205, 205, 220, 240,\n",
              "         80, 150, 255, 229, 221, 188, 154, 191, 210, 204, 209, 222, 228,\n",
              "        225,   0],\n",
              "       [ 98, 233, 198, 210, 222, 229, 229, 234, 249, 220, 194, 215, 217,\n",
              "        241,  65,  73, 106, 117, 168, 219, 221, 215, 217, 223, 223, 224,\n",
              "        229,  29],\n",
              "       [ 75, 204, 212, 204, 193, 205, 211, 225, 216, 185, 197, 206, 198,\n",
              "        213, 240, 195, 227, 245, 239, 223, 218, 212, 209, 222, 220, 221,\n",
              "        230,  67],\n",
              "       [ 48, 203, 183, 194, 213, 197, 185, 190, 194, 192, 202, 214, 219,\n",
              "        221, 220, 236, 225, 216, 199, 206, 186, 181, 177, 172, 181, 205,\n",
              "        206, 115],\n",
              "       [  0, 122, 219, 193, 179, 171, 183, 196, 204, 210, 213, 207, 211,\n",
              "        210, 200, 196, 194, 191, 195, 191, 198, 192, 176, 156, 167, 177,\n",
              "        210,  92],\n",
              "       [  0,   0,  74, 189, 212, 191, 175, 172, 175, 181, 185, 188, 189,\n",
              "        188, 193, 198, 204, 209, 210, 210, 211, 188, 188, 194, 192, 216,\n",
              "        170,   0],\n",
              "       [  2,   0,   0,   0,  66, 200, 222, 237, 239, 242, 246, 243, 244,\n",
              "        221, 220, 193, 191, 179, 182, 182, 181, 176, 166, 168,  99,  58,\n",
              "          0,   0],\n",
              "       [  0,   0,   0,   0,   0,   0,   0,  40,  61,  44,  72,  41,  35,\n",
              "          0,   0,   0,   0,   0,   0,   0,   0,   0,   0,   0,   0,   0,\n",
              "          0,   0],\n",
              "       [  0,   0,   0,   0,   0,   0,   0,   0,   0,   0,   0,   0,   0,\n",
              "          0,   0,   0,   0,   0,   0,   0,   0,   0,   0,   0,   0,   0,\n",
              "          0,   0],\n",
              "       [  0,   0,   0,   0,   0,   0,   0,   0,   0,   0,   0,   0,   0,\n",
              "          0,   0,   0,   0,   0,   0,   0,   0,   0,   0,   0,   0,   0,\n",
              "          0,   0]], dtype=uint8)"
            ]
          },
          "metadata": {},
          "execution_count": 3
        }
      ]
    },
    {
      "cell_type": "code",
      "source": [
        "import matplotlib.pyplot as plt\n",
        "\n",
        "plt.imshow(train_images[777])\n",
        "plt.show()"
      ],
      "metadata": {
        "colab": {
          "base_uri": "https://localhost:8080/",
          "height": 430
        },
        "id": "zo0ewliEvbct",
        "outputId": "70702b84-739d-4b28-9d34-418a0ab57004"
      },
      "execution_count": 4,
      "outputs": [
        {
          "output_type": "display_data",
          "data": {
            "text/plain": [
              "<Figure size 640x480 with 1 Axes>"
            ],
            "image/png": "[encoded data removed]"
          },
          "metadata": {}
        }
      ]
    },
    {
      "cell_type": "code",
      "source": [
        "type(train_images) #=> n차원의 배열"
      ],
      "metadata": {
        "colab": {
          "base_uri": "https://localhost:8080/"
        },
        "id": "FTIc8cM_v4xi",
        "outputId": "b8ae2ad4-70f0-4eb9-e894-745cb23d98f1"
      },
      "execution_count": 5,
      "outputs": [
        {
          "output_type": "execute_result",
          "data": {
            "text/plain": [
              "numpy.ndarray"
            ]
          },
          "metadata": {},
          "execution_count": 5
        }
      ]
    },
    {
      "cell_type": "code",
      "execution_count": 6,
      "metadata": {
        "id": "clZsfa_2-tBy"
      },
      "outputs": [],
      "source": [
        "# 이미지들을 정규화합니다 (0과 1 사이의 값으로)\n",
        "# 이미지 픽셀 값은 0에서 255 사이의 범위를 갖습니다.\n",
        "# 정규화를 통해 모든 픽셀 값을 0에서 1 사이의 값으로 스케일링합니다.\n",
        "train_images = train_images / 255.0\n",
        "# train_images /= 255.0 도 가능\n",
        "\n",
        "test_images = test_images / 255.0\n",
        "# 이미지 정규화는 이미지 데이터를 신경망 모델에 입력하기 전에 스케일을 조정하는 과정입니다.\n",
        "# 일반적으로 0에서 255 사이의 픽셀 값은 0과 1 사이의 값으로 변환하여 모델의 학습을 더 안정적으로 만듭니다.\n",
        "# 이렇게 정규화된 데이터는 학습 및 예측 과정에서 더 잘 동작합니다."
      ]
    },
    {
      "cell_type": "code",
      "source": [
        "train_images[0]"
      ],
      "metadata": {
        "colab": {
          "base_uri": "https://localhost:8080/"
        },
        "id": "nYmapv4JwaEY",
        "outputId": "cf8ad26a-4037-4f93-e7fa-cb6695e95a43"
      },
      "execution_count": 7,
      "outputs": [
        {
          "output_type": "execute_result",
          "data": {
            "text/plain": [
              "array([[0.        , 0.        , 0.        , 0.        , 0.        ,\n",
              "        0.        , 0.        , 0.        , 0.        , 0.        ,\n",
              "        0.        , 0.        , 0.        , 0.        , 0.        ,\n",
              "        0.        , 0.        , 0.        , 0.        , 0.        ,\n",
              "        0.        , 0.        , 0.        , 0.        , 0.        ,\n",
              "        0.        , 0.        , 0.        ],\n",
              "       [0.        , 0.        , 0.        , 0.        , 0.        ,\n",
              "        0.        , 0.        , 0.        , 0.        , 0.        ,\n",
              "        0.        , 0.        , 0.        , 0.        , 0.        ,\n",
              "        0.        , 0.        , 0.        , 0.        , 0.        ,\n",
              "        0.        , 0.        , 0.        , 0.        , 0.        ,\n",
              "        0.        , 0.        , 0.        ],\n",
              "       [0.        , 0.        , 0.        , 0.        , 0.        ,\n",
              "        0.        , 0.        , 0.        , 0.        , 0.        ,\n",
              "        0.        , 0.        , 0.        , 0.        , 0.        ,\n",
              "        0.        , 0.        , 0.        , 0.        , 0.        ,\n",
              "        0.        , 0.        , 0.        , 0.        , 0.        ,\n",
              "        0.        , 0.        , 0.        ],\n",
              "       [0.        , 0.        , 0.        , 0.        , 0.        ,\n",
              "        0.        , 0.        , 0.        , 0.        , 0.        ,\n",
              "        0.        , 0.        , 0.00392157, 0.        , 0.        ,\n",
              "        0.05098039, 0.28627451, 0.        , 0.        , 0.00392157,\n",
              "        0.01568627, 0.        , 0.        , 0.        , 0.        ,\n",
              "        0.00392157, 0.00392157, 0.        ],\n",
              "       [0.        , 0.        , 0.        , 0.        , 0.        ,\n",
              "        0.        , 0.        , 0.        , 0.        , 0.        ,\n",
              "        0.        , 0.        , 0.01176471, 0.        , 0.14117647,\n",
              "        0.53333333, 0.49803922, 0.24313725, 0.21176471, 0.        ,\n",
              "        0.        , 0.        , 0.00392157, 0.01176471, 0.01568627,\n",
              "        0.        , 0.        , 0.01176471],\n",
              "       [0.        , 0.        , 0.        , 0.        , 0.        ,\n",
              "        0.        , 0.        , 0.        , 0.        , 0.        ,\n",
              "        0.        , 0.        , 0.02352941, 0.        , 0.4       ,\n",
              "        0.8       , 0.69019608, 0.5254902 , 0.56470588, 0.48235294,\n",
              "        0.09019608, 0.        , 0.        , 0.        , 0.        ,\n",
              "        0.04705882, 0.03921569, 0.        ],\n",
              "       [0.        , 0.        , 0.        , 0.        , 0.        ,\n",
              "        0.        , 0.        , 0.        , 0.        , 0.        ,\n",
              "        0.        , 0.        , 0.        , 0.        , 0.60784314,\n",
              "        0.9254902 , 0.81176471, 0.69803922, 0.41960784, 0.61176471,\n",
              "        0.63137255, 0.42745098, 0.25098039, 0.09019608, 0.30196078,\n",
              "        0.50980392, 0.28235294, 0.05882353],\n",
              "       [0.        , 0.        , 0.        , 0.        , 0.        ,\n",
              "        0.        , 0.        , 0.        , 0.        , 0.        ,\n",
              "        0.        , 0.00392157, 0.        , 0.27058824, 0.81176471,\n",
              "        0.8745098 , 0.85490196, 0.84705882, 0.84705882, 0.63921569,\n",
              "        0.49803922, 0.4745098 , 0.47843137, 0.57254902, 0.55294118,\n",
              "        0.34509804, 0.6745098 , 0.25882353],\n",
              "       [0.        , 0.        , 0.        , 0.        , 0.        ,\n",
              "        0.        , 0.        , 0.        , 0.        , 0.00392157,\n",
              "        0.00392157, 0.00392157, 0.        , 0.78431373, 0.90980392,\n",
              "        0.90980392, 0.91372549, 0.89803922, 0.8745098 , 0.8745098 ,\n",
              "        0.84313725, 0.83529412, 0.64313725, 0.49803922, 0.48235294,\n",
              "        0.76862745, 0.89803922, 0.        ],\n",
              "       [0.        , 0.        , 0.        , 0.        , 0.        ,\n",
              "        0.        , 0.        , 0.        , 0.        , 0.        ,\n",
              "        0.        , 0.        , 0.        , 0.71764706, 0.88235294,\n",
              "        0.84705882, 0.8745098 , 0.89411765, 0.92156863, 0.89019608,\n",
              "        0.87843137, 0.87058824, 0.87843137, 0.86666667, 0.8745098 ,\n",
              "        0.96078431, 0.67843137, 0.        ],\n",
              "       [0.        , 0.        , 0.        , 0.        , 0.        ,\n",
              "        0.        , 0.        , 0.        , 0.        , 0.        ,\n",
              "        0.        , 0.        , 0.        , 0.75686275, 0.89411765,\n",
              "        0.85490196, 0.83529412, 0.77647059, 0.70588235, 0.83137255,\n",
              "        0.82352941, 0.82745098, 0.83529412, 0.8745098 , 0.8627451 ,\n",
              "        0.95294118, 0.79215686, 0.        ],\n",
              "       [0.        , 0.        , 0.        , 0.        , 0.        ,\n",
              "        0.        , 0.        , 0.        , 0.        , 0.00392157,\n",
              "        0.01176471, 0.        , 0.04705882, 0.85882353, 0.8627451 ,\n",
              "        0.83137255, 0.85490196, 0.75294118, 0.6627451 , 0.89019608,\n",
              "        0.81568627, 0.85490196, 0.87843137, 0.83137255, 0.88627451,\n",
              "        0.77254902, 0.81960784, 0.20392157],\n",
              "       [0.        , 0.        , 0.        , 0.        , 0.        ,\n",
              "        0.        , 0.        , 0.        , 0.        , 0.        ,\n",
              "        0.02352941, 0.        , 0.38823529, 0.95686275, 0.87058824,\n",
              "        0.8627451 , 0.85490196, 0.79607843, 0.77647059, 0.86666667,\n",
              "        0.84313725, 0.83529412, 0.87058824, 0.8627451 , 0.96078431,\n",
              "        0.46666667, 0.65490196, 0.21960784],\n",
              "       [0.        , 0.        , 0.        , 0.        , 0.        ,\n",
              "        0.        , 0.        , 0.        , 0.        , 0.01568627,\n",
              "        0.        , 0.        , 0.21568627, 0.9254902 , 0.89411765,\n",
              "        0.90196078, 0.89411765, 0.94117647, 0.90980392, 0.83529412,\n",
              "        0.85490196, 0.8745098 , 0.91764706, 0.85098039, 0.85098039,\n",
              "        0.81960784, 0.36078431, 0.        ],\n",
              "       [0.        , 0.        , 0.00392157, 0.01568627, 0.02352941,\n",
              "        0.02745098, 0.00784314, 0.        , 0.        , 0.        ,\n",
              "        0.        , 0.        , 0.92941176, 0.88627451, 0.85098039,\n",
              "        0.8745098 , 0.87058824, 0.85882353, 0.87058824, 0.86666667,\n",
              "        0.84705882, 0.8745098 , 0.89803922, 0.84313725, 0.85490196,\n",
              "        1.        , 0.30196078, 0.        ],\n",
              "       [0.        , 0.01176471, 0.        , 0.        , 0.        ,\n",
              "        0.        , 0.        , 0.        , 0.        , 0.24313725,\n",
              "        0.56862745, 0.8       , 0.89411765, 0.81176471, 0.83529412,\n",
              "        0.86666667, 0.85490196, 0.81568627, 0.82745098, 0.85490196,\n",
              "        0.87843137, 0.8745098 , 0.85882353, 0.84313725, 0.87843137,\n",
              "        0.95686275, 0.62352941, 0.        ],\n",
              "       [0.        , 0.        , 0.        , 0.        , 0.07058824,\n",
              "        0.17254902, 0.32156863, 0.41960784, 0.74117647, 0.89411765,\n",
              "        0.8627451 , 0.87058824, 0.85098039, 0.88627451, 0.78431373,\n",
              "        0.80392157, 0.82745098, 0.90196078, 0.87843137, 0.91764706,\n",
              "        0.69019608, 0.7372549 , 0.98039216, 0.97254902, 0.91372549,\n",
              "        0.93333333, 0.84313725, 0.        ],\n",
              "       [0.        , 0.22352941, 0.73333333, 0.81568627, 0.87843137,\n",
              "        0.86666667, 0.87843137, 0.81568627, 0.8       , 0.83921569,\n",
              "        0.81568627, 0.81960784, 0.78431373, 0.62352941, 0.96078431,\n",
              "        0.75686275, 0.80784314, 0.8745098 , 1.        , 1.        ,\n",
              "        0.86666667, 0.91764706, 0.86666667, 0.82745098, 0.8627451 ,\n",
              "        0.90980392, 0.96470588, 0.        ],\n",
              "       [0.01176471, 0.79215686, 0.89411765, 0.87843137, 0.86666667,\n",
              "        0.82745098, 0.82745098, 0.83921569, 0.80392157, 0.80392157,\n",
              "        0.80392157, 0.8627451 , 0.94117647, 0.31372549, 0.58823529,\n",
              "        1.        , 0.89803922, 0.86666667, 0.7372549 , 0.60392157,\n",
              "        0.74901961, 0.82352941, 0.8       , 0.81960784, 0.87058824,\n",
              "        0.89411765, 0.88235294, 0.        ],\n",
              "       [0.38431373, 0.91372549, 0.77647059, 0.82352941, 0.87058824,\n",
              "        0.89803922, 0.89803922, 0.91764706, 0.97647059, 0.8627451 ,\n",
              "        0.76078431, 0.84313725, 0.85098039, 0.94509804, 0.25490196,\n",
              "        0.28627451, 0.41568627, 0.45882353, 0.65882353, 0.85882353,\n",
              "        0.86666667, 0.84313725, 0.85098039, 0.8745098 , 0.8745098 ,\n",
              "        0.87843137, 0.89803922, 0.11372549],\n",
              "       [0.29411765, 0.8       , 0.83137255, 0.8       , 0.75686275,\n",
              "        0.80392157, 0.82745098, 0.88235294, 0.84705882, 0.7254902 ,\n",
              "        0.77254902, 0.80784314, 0.77647059, 0.83529412, 0.94117647,\n",
              "        0.76470588, 0.89019608, 0.96078431, 0.9372549 , 0.8745098 ,\n",
              "        0.85490196, 0.83137255, 0.81960784, 0.87058824, 0.8627451 ,\n",
              "        0.86666667, 0.90196078, 0.2627451 ],\n",
              "       [0.18823529, 0.79607843, 0.71764706, 0.76078431, 0.83529412,\n",
              "        0.77254902, 0.7254902 , 0.74509804, 0.76078431, 0.75294118,\n",
              "        0.79215686, 0.83921569, 0.85882353, 0.86666667, 0.8627451 ,\n",
              "        0.9254902 , 0.88235294, 0.84705882, 0.78039216, 0.80784314,\n",
              "        0.72941176, 0.70980392, 0.69411765, 0.6745098 , 0.70980392,\n",
              "        0.80392157, 0.80784314, 0.45098039],\n",
              "       [0.        , 0.47843137, 0.85882353, 0.75686275, 0.70196078,\n",
              "        0.67058824, 0.71764706, 0.76862745, 0.8       , 0.82352941,\n",
              "        0.83529412, 0.81176471, 0.82745098, 0.82352941, 0.78431373,\n",
              "        0.76862745, 0.76078431, 0.74901961, 0.76470588, 0.74901961,\n",
              "        0.77647059, 0.75294118, 0.69019608, 0.61176471, 0.65490196,\n",
              "        0.69411765, 0.82352941, 0.36078431],\n",
              "       [0.        , 0.        , 0.29019608, 0.74117647, 0.83137255,\n",
              "        0.74901961, 0.68627451, 0.6745098 , 0.68627451, 0.70980392,\n",
              "        0.7254902 , 0.7372549 , 0.74117647, 0.7372549 , 0.75686275,\n",
              "        0.77647059, 0.8       , 0.81960784, 0.82352941, 0.82352941,\n",
              "        0.82745098, 0.7372549 , 0.7372549 , 0.76078431, 0.75294118,\n",
              "        0.84705882, 0.66666667, 0.        ],\n",
              "       [0.00784314, 0.        , 0.        , 0.        , 0.25882353,\n",
              "        0.78431373, 0.87058824, 0.92941176, 0.9372549 , 0.94901961,\n",
              "        0.96470588, 0.95294118, 0.95686275, 0.86666667, 0.8627451 ,\n",
              "        0.75686275, 0.74901961, 0.70196078, 0.71372549, 0.71372549,\n",
              "        0.70980392, 0.69019608, 0.65098039, 0.65882353, 0.38823529,\n",
              "        0.22745098, 0.        , 0.        ],\n",
              "       [0.        , 0.        , 0.        , 0.        , 0.        ,\n",
              "        0.        , 0.        , 0.15686275, 0.23921569, 0.17254902,\n",
              "        0.28235294, 0.16078431, 0.1372549 , 0.        , 0.        ,\n",
              "        0.        , 0.        , 0.        , 0.        , 0.        ,\n",
              "        0.        , 0.        , 0.        , 0.        , 0.        ,\n",
              "        0.        , 0.        , 0.        ],\n",
              "       [0.        , 0.        , 0.        , 0.        , 0.        ,\n",
              "        0.        , 0.        , 0.        , 0.        , 0.        ,\n",
              "        0.        , 0.        , 0.        , 0.        , 0.        ,\n",
              "        0.        , 0.        , 0.        , 0.        , 0.        ,\n",
              "        0.        , 0.        , 0.        , 0.        , 0.        ,\n",
              "        0.        , 0.        , 0.        ],\n",
              "       [0.        , 0.        , 0.        , 0.        , 0.        ,\n",
              "        0.        , 0.        , 0.        , 0.        , 0.        ,\n",
              "        0.        , 0.        , 0.        , 0.        , 0.        ,\n",
              "        0.        , 0.        , 0.        , 0.        , 0.        ,\n",
              "        0.        , 0.        , 0.        , 0.        , 0.        ,\n",
              "        0.        , 0.        , 0.        ]])"
            ]
          },
          "metadata": {},
          "execution_count": 7
        }
      ]
    },
    {
      "cell_type": "code",
      "execution_count": 8,
      "metadata": {
        "id": "Hnav-5X6-vTq",
        "colab": {
          "base_uri": "https://localhost:8080/"
        },
        "outputId": "bc877328-7dc1-48c4-eb48-328f8ecca043"
      },
      "outputs": [
        {
          "output_type": "stream",
          "name": "stdout",
          "text": [
            "Model: \"sequential\"\n",
            "_________________________________________________________________\n",
            " Layer (type)                Output Shape              Param #   \n",
            "=================================================================\n",
            " flatten (Flatten)           (None, 784)               0         \n",
            "                                                                 \n",
            " dense (Dense)               (None, 128)               100480    \n",
            "                                                                 \n",
            " dense_1 (Dense)             (None, 10)                1290      \n",
            "                                                                 \n",
            "=================================================================\n",
            "Total params: 101770 (397.54 KB)\n",
            "Trainable params: 101770 (397.54 KB)\n",
            "Non-trainable params: 0 (0.00 Byte)\n",
            "_________________________________________________________________\n"
          ]
        }
      ],
      "source": [
        "# 순차적 모델을 구축합니다\n",
        "model = Sequential([\n",
        "    # Flatten 레이어: 2D 이미지를 1D 배열로 변환하여 입력 데이터를 평평하게 만듭니다.\n",
        "    # 이렇게 하면 이미지의 픽셀을 일렬로 나열하여 신경망에 입력할 수 있습니다.\n",
        "    # 입력 이미지는 28x28 크기의 2D 배열입니다.\n",
        "    Flatten(input_shape=(28, 28)),\n",
        "    # Dense 레이어 (은닉층): 128개의 뉴런을 가집니다.\n",
        "    # 활성화 함수로는 ReLU(Rectified Linear Activation)를 사용합니다.\n",
        "    # 이 층은 입력 데이터에서 중요한 특징을 추출하는 역할을 합니다.\n",
        "    # 128개의 은닉 뉴런과 ReLU 활성화 함수를 사용합니다.\n",
        "    Dense(128, activation='relu'),\n",
        "\n",
        "    # Dense 레이어 (출력 층): 10개의 뉴런을 가집니다.\n",
        "    # 활성화 함수로는 Softmax를 사용합니다. Softmax는 다중 클래스 분류에 적합합니다.\n",
        "    # 각 뉴런은 클래스(패션 아이템 카테고리)에 대한 확률을 출력합니다.\n",
        "    # 10개의 클래스를 분류하기 위한 출력 층입니다.\n",
        "    Dense(10, activation='softmax')\n",
        "])\n",
        "model.summary()"
      ]
    },
    {
      "cell_type": "code",
      "execution_count": 9,
      "metadata": {
        "id": "GbxsmkzX-w0c"
      },
      "outputs": [],
      "source": [
        "# 모델을 컴파일합니다\n",
        "model.compile(\n",
        "    optimizer='adam',                       # 옵티마이저로 'adam'을 사용합니다. Adam은 효율적인 경사 하강 알고리즘입니다.\n",
        "    loss='sparse_categorical_crossentropy', # 손실함수로 'sparse_categorical_crossentropy'를 사용합니다.\n",
        "    metrics=['accuracy']                    # 모델 평가 지표로 정확도를 사용합니다.\n",
        ")\n",
        "\n",
        "# sparse_categorical_crossentropy와 categorical_crossentropy의 차이\n",
        "\n",
        "# sparse_categorical_crossentropy:\n",
        "# - 레이블은 정수 형태로 주어집니다. 각 샘플의 레이블은 클래스의 인덱스입니다.\n",
        "# - 예를 들어, 클래스가 0부터 9까지의 정수로 표현되는 경우 사용됩니다.\n",
        "# - 모델의 출력은 클래스 수에 대한 로짓(점수)을 출력하며, 소프트맥스 활성화 함수와 함께 사용됩니다.\n",
        "\n",
        "# categorical_crossentropy:\n",
        "# - 레이블은 원-핫 인코딩된 벡터로 주어집니다. 각 클래스에 해당하는 요소는 1, 나머지는 0입니다.\n",
        "# - 예를 들어, 클래스가 [0, 1, 0, 0, 0, 0, 0, 0, 0, 0]과 같이 벡터로 표현되는 경우 사용됩니다.\n",
        "# - 모델의 출력은 클래스에 대한 확률 분포를 출력하며, 소프트맥스 활성화 함수와 함께 사용됩니다.\n",
        "\n",
        "# 어떤 것을 선택해야 할지는 데이터의 레이블 표현 방식에 따라 다릅니다.\n",
        "# sparse_categorical_crossentropy는 정수로 표현된 클래스 레이블에 적합하고,\n",
        "# categorical_crossentropy는 원-핫 인코딩된 클래스 레이블에 적합합니다."
      ]
    },
    {
      "cell_type": "code",
      "source": [
        "from keras.callbacks import EarlyStopping\n",
        "early_stopping = EarlyStopping(monitor='val_loss', patience=30)"
      ],
      "metadata": {
        "id": "TCvnF6Vk78sq"
      },
      "execution_count": 10,
      "outputs": []
    },
    {
      "cell_type": "code",
      "execution_count": 11,
      "metadata": {
        "colab": {
          "base_uri": "https://localhost:8080/"
        },
        "id": "d-uIrm68-ydr",
        "outputId": "8e07e0f6-80f5-40ff-a0df-a9890368a409"
      },
      "outputs": [
        {
          "output_type": "stream",
          "name": "stdout",
          "text": [
            "Epoch 1/30\n",
            "600/600 [==============================] - 10s 5ms/step - loss: 0.5370 - accuracy: 0.8133\n",
            "Epoch 2/30\n",
            "600/600 [==============================] - 2s 4ms/step - loss: 0.3963 - accuracy: 0.8608\n",
            "Epoch 3/30\n",
            "600/600 [==============================] - 3s 4ms/step - loss: 0.3591 - accuracy: 0.8717\n",
            "Epoch 4/30\n",
            "600/600 [==============================] - 3s 5ms/step - loss: 0.3309 - accuracy: 0.8814\n",
            "Epoch 5/30\n",
            "600/600 [==============================] - 4s 6ms/step - loss: 0.3124 - accuracy: 0.8853\n",
            "Epoch 6/30\n",
            "600/600 [==============================] - 2s 4ms/step - loss: 0.2966 - accuracy: 0.8921\n",
            "Epoch 7/30\n",
            "600/600 [==============================] - 2s 3ms/step - loss: 0.2848 - accuracy: 0.8960\n",
            "Epoch 8/30\n",
            "600/600 [==============================] - 1s 2ms/step - loss: 0.2727 - accuracy: 0.8994\n",
            "Epoch 9/30\n",
            "600/600 [==============================] - 1s 2ms/step - loss: 0.2634 - accuracy: 0.9022\n",
            "Epoch 10/30\n",
            "600/600 [==============================] - 1s 2ms/step - loss: 0.2541 - accuracy: 0.9058\n",
            "Epoch 11/30\n",
            "600/600 [==============================] - 1s 2ms/step - loss: 0.2462 - accuracy: 0.9091\n",
            "Epoch 12/30\n",
            "600/600 [==============================] - 1s 2ms/step - loss: 0.2380 - accuracy: 0.9118\n",
            "Epoch 13/30\n",
            "600/600 [==============================] - 2s 3ms/step - loss: 0.2321 - accuracy: 0.9132\n",
            "Epoch 14/30\n",
            "600/600 [==============================] - 2s 3ms/step - loss: 0.2258 - accuracy: 0.9168\n",
            "Epoch 15/30\n",
            "600/600 [==============================] - 1s 2ms/step - loss: 0.2202 - accuracy: 0.9169\n",
            "Epoch 16/30\n",
            "600/600 [==============================] - 1s 2ms/step - loss: 0.2124 - accuracy: 0.9219\n",
            "Epoch 17/30\n",
            "600/600 [==============================] - 2s 3ms/step - loss: 0.2092 - accuracy: 0.9232\n",
            "Epoch 18/30\n",
            "600/600 [==============================] - 1s 2ms/step - loss: 0.2030 - accuracy: 0.9250\n",
            "Epoch 19/30\n",
            "600/600 [==============================] - 2s 3ms/step - loss: 0.1970 - accuracy: 0.9280\n",
            "Epoch 20/30\n",
            "600/600 [==============================] - 2s 3ms/step - loss: 0.1949 - accuracy: 0.9269\n",
            "Epoch 21/30\n",
            "600/600 [==============================] - 2s 4ms/step - loss: 0.1872 - accuracy: 0.9298\n",
            "Epoch 22/30\n",
            "600/600 [==============================] - 2s 4ms/step - loss: 0.1831 - accuracy: 0.9314\n",
            "Epoch 23/30\n",
            "600/600 [==============================] - 2s 3ms/step - loss: 0.1782 - accuracy: 0.9338\n",
            "Epoch 24/30\n",
            "600/600 [==============================] - 2s 3ms/step - loss: 0.1761 - accuracy: 0.9351\n",
            "Epoch 25/30\n",
            "600/600 [==============================] - 1s 2ms/step - loss: 0.1734 - accuracy: 0.9356\n",
            "Epoch 26/30\n",
            "600/600 [==============================] - 1s 2ms/step - loss: 0.1682 - accuracy: 0.9373\n",
            "Epoch 27/30\n",
            "600/600 [==============================] - 1s 2ms/step - loss: 0.1667 - accuracy: 0.9368\n",
            "Epoch 28/30\n",
            "600/600 [==============================] - 1s 2ms/step - loss: 0.1594 - accuracy: 0.9408\n",
            "Epoch 29/30\n",
            "600/600 [==============================] - 2s 3ms/step - loss: 0.1579 - accuracy: 0.9417\n",
            "Epoch 30/30\n",
            "600/600 [==============================] - 2s 3ms/step - loss: 0.1528 - accuracy: 0.9425\n"
          ]
        },
        {
          "output_type": "execute_result",
          "data": {
            "text/plain": [
              "<keras.src.callbacks.History at 0x7ef295c26500>"
            ]
          },
          "metadata": {},
          "execution_count": 11
        }
      ],
      "source": [
        "# 모델을 학습시킵니다\n",
        "# train_images: 훈련 이미지 데이터\n",
        "# train_labels: 훈련 레이블 데이터\n",
        "# epochs: 전체 데이터셋을 몇 번 반복해서 학습할지 지정합니다.\n",
        "\n",
        "model.fit(train_images, train_labels, epochs=30, batch_size=100)\n",
        "\n",
        "# 1. Epochs를 늘리고 GPU 설정하기\n",
        "# 2. 조기 종료(Early Stopping) 도입하기:\n",
        "# - 조기 종료는 모델이 과적합(overfitting)되는 것을 방지하기 위한 기술 중 하나입니다.\n",
        "# - 모델 학습 중에 검증 데이터를 사용하여 모델의 성능을 모니터링합니다.\n",
        "# - 성능이 일정 기간 동안 향상되지 않을 때 학습을 조기 종료합니다.\n",
        "# - 이를 위해 Keras에서는 EarlyStopping 콜백을 사용할 수 있습니다.\n",
        "# - 예를 들어, val_loss(검증 데이터의 손실)을 모니터링하고, 일정 epochs 동안 개선되지 않으면 학습을 종료할 수 있습니다.\n",
        "# - EarlyStopping을 적용하려면 적절한 매개 변수(예: patience)를 설정하여 사용합니다.\n",
        "# - 조기 종료를 사용하면 모델이 더 일반화되고 좋은 성능을 얻을 수 있습니다."
      ]
    },
    {
      "cell_type": "code",
      "execution_count": 12,
      "metadata": {
        "colab": {
          "base_uri": "https://localhost:8080/"
        },
        "id": "gFsPgT5C-zXr",
        "outputId": "2855ed7a-8912-4af6-c325-ec7923a7800f"
      },
      "outputs": [
        {
          "output_type": "stream",
          "name": "stdout",
          "text": [
            "313/313 - 1s - loss: 0.3436 - accuracy: 0.8910 - 680ms/epoch - 2ms/step\n"
          ]
        }
      ],
      "source": [
        "# 모델을 평가합니다\n",
        "# test_images: 테스트 이미지 데이터\n",
        "# test_labels: 테스트 레이블 데이터\n",
        "# verbose: 평가 과정의 출력을 제어하는 매개 변수입니다. 0은 아무 출력도 하지 않고, 1은 진행 바와 함께 출력하며, 2는 간단한 출력을 합니다.\n",
        "\n",
        "test_loss, test_acc = model.evaluate(test_images, test_labels, verbose=2)\n",
        "\n",
        "# 평가 결과 설명:\n",
        "# - 모델을 테스트 데이터로 평가하여 손실(test_loss)과 정확도(test_acc)를 계산합니다.\n",
        "# - 손실은 모델의 예측이 실제 레이블과 얼마나 일치하지 않는지를 나타냅니다.\n",
        "# - 정확도는 모델이 정확하게 분류한 샘플의 비율을 나타냅니다.\n",
        "# - 모델의 성능을 평가하여 훈련 과정의 결과를 확인하고, 모델을 개선하는 데 도움을 줍니다."
      ]
    },
    {
      "cell_type": "code",
      "execution_count": 13,
      "metadata": {
        "colab": {
          "base_uri": "https://localhost:8080/"
        },
        "id": "miwf97Rk-0si",
        "outputId": "1b1d5aa2-0f84-4ce1-b012-1845c171bd51"
      },
      "outputs": [
        {
          "output_type": "stream",
          "name": "stdout",
          "text": [
            "\n",
            "Test accuracy: 0.890999972820282\n"
          ]
        }
      ],
      "source": [
        "# 테스트 정확도를 출력합니다\n",
        "print('\\nTest accuracy:', test_acc)\n",
        "\n",
        "# 이 코드는 모델의 테스트 정확도를 출력하는 부분입니다.\n",
        "# test_acc는 모델 평가 결과에서 계산된 정확도를 나타내며, 이를 화면에 출력합니다.\n",
        "# 테스트 정확도는 모델이 테스트 데이터에서 얼마나 정확하게 분류하는지를 나타내는 중요한 지표 중 하나입니다."
      ]
    },
    {
      "cell_type": "code",
      "execution_count": 14,
      "metadata": {
        "colab": {
          "base_uri": "https://localhost:8080/"
        },
        "id": "PiJEHYUy_epU",
        "outputId": "f1a2abde-b904-44a0-cd9e-cabaeeefc235"
      },
      "outputs": [
        {
          "output_type": "stream",
          "name": "stdout",
          "text": [
            "313/313 [==============================] - 1s 2ms/step\n"
          ]
        }
      ],
      "source": [
        "classifications = model.predict(test_images)\n",
        "\n",
        "# 이 코드는 훈련된 모델을 사용하여 테스트 이미지에 대한 예측을 수행합니다.\n",
        "# test_images는 테스트 데이터셋에 있는 이미지들을 나타내며, 모델은 이 이미지들을 분류합니다.\n",
        "# model.predict() 함수는 각 이미지에 대한 모델의 예측 결과를 반환합니다.\n",
        "\n",
        "# classifications 변수에는 예측 결과가 저장됩니다.\n",
        "# classifications는 각 이미지에 대한 클래스 확률 분포를 나타내며, 예를 들어 첫 번째 이미지에 대한 확률 분포가 [0.1, 0.2, 0.3, ...] 형태일 수 있습니다.\n",
        "# 이 분포에서 가장 높은 확률을 가지는 클래스가 모델의 예측 결과입니다.\n",
        "\n",
        "# 이렇게 예측을 수행하면 모델이 각 테스트 이미지를 어떻게 분류하는지를 알 수 있으며,\n",
        "# 이를 통해 모델의 성능을 평가하거나 예측 결과를 활용할 수 있습니다."
      ]
    },
    {
      "cell_type": "code",
      "source": [
        "classifications"
      ],
      "metadata": {
        "colab": {
          "base_uri": "https://localhost:8080/"
        },
        "id": "TidZgcW7z4nI",
        "outputId": "12272cd4-5f47-4b67-a36f-f9b1f5ae603b"
      },
      "execution_count": 15,
      "outputs": [
        {
          "output_type": "execute_result",
          "data": {
            "text/plain": [
              "array([[1.5802206e-08, 3.5196540e-12, 3.1280370e-10, ..., 8.8557898e-04,\n",
              "        4.5493226e-10, 9.9910706e-01],\n",
              "       [1.9802841e-04, 1.8768632e-15, 9.9894530e-01, ..., 7.8318834e-21,\n",
              "        4.1577754e-14, 9.3661580e-13],\n",
              "       [1.5566216e-12, 1.0000000e+00, 8.2568598e-18, ..., 6.2128831e-24,\n",
              "        1.5103956e-17, 2.8742330e-23],\n",
              "       ...,\n",
              "       [3.4852608e-05, 7.2490577e-14, 3.7565951e-05, ..., 3.0733405e-10,\n",
              "        9.9992537e-01, 3.1604750e-11],\n",
              "       [5.1815285e-10, 9.9999416e-01, 2.2234508e-12, ..., 1.1976077e-12,\n",
              "        1.6907074e-10, 2.0449514e-11],\n",
              "       [8.1021065e-09, 1.0840441e-10, 2.0683801e-09, ..., 2.2270695e-04,\n",
              "        1.2197853e-08, 7.0250714e-08]], dtype=float32)"
            ]
          },
          "metadata": {},
          "execution_count": 15
        }
      ]
    },
    {
      "cell_type": "code",
      "execution_count": 16,
      "metadata": {
        "colab": {
          "base_uri": "https://localhost:8080/",
          "height": 466
        },
        "id": "bpK155aO__na",
        "outputId": "7292f2bc-6a7a-4c41-8efc-315eaa550fc3"
      },
      "outputs": [
        {
          "output_type": "display_data",
          "data": {
            "text/plain": [
              "<Figure size 640x480 with 1 Axes>"
            ],
            "image/png": "[encoded data removed]"
          },
          "metadata": {}
        },
        {
          "output_type": "stream",
          "name": "stdout",
          "text": [
            "예측 : 2\n",
            "실제 : 2\n"
          ]
        }
      ],
      "source": [
        "import numpy as np\n",
        "import matplotlib.pyplot as plt\n",
        "\n",
        "def show_result(index):\n",
        "    # 이미지 표시\n",
        "    plt.imshow(test_images[index] * 255)  # 이미지를 시각화하기 전에 정규화를 되돌립니다 (* 255)\n",
        "    plt.show()\n",
        "\n",
        "    # 예측 결과 출력\n",
        "    # np.argmax() 함수는 배열에서 최댓값을 가지는 원소의 인덱스를 반환합니다.\n",
        "    predicted_class = np.argmax(classifications[index])  # classifications에서 가장 높은 확률을 가지는 클래스의 인덱스를 찾습니다.\n",
        "    print(f'예측 : {predicted_class}')  # 모델의 예측 결과를 출력합니다.\n",
        "\n",
        "    # 실제 클래스(레이블) 출력\n",
        "    true_class = test_labels[index]  # 테스트 데이터의 실제 클래스(레이블)를 가져옵니다.\n",
        "    print(f'실제 : {true_class}')  # 실제 클래스(레이블)를 출력합니다.\n",
        "\n",
        "show_result(77)"
      ]
    },
    {
      "cell_type": "code",
      "source": [
        "label_name = ['T-shirt/top',\n",
        " 'Trouser',\n",
        " 'Pullover',\n",
        " 'Dress',\n",
        " 'Coat',\n",
        " 'Sandal',\n",
        " 'Shirt',\n",
        " 'Sneaker',\n",
        " 'Bag',\n",
        " 'Ankle boot']\n",
        "\n",
        "def show_result2(index):\n",
        "    # 이미지 표시\n",
        "    plt.imshow(test_images[index] * 255)  # 이미지를 시각화하기 전에 정규화를 되돌립니다 (* 255)\n",
        "    plt.show()\n",
        "\n",
        "    # 예측 결과 출력\n",
        "    # np.argmax() 함수는 배열에서 최댓값을 가지는 원소의 인덱스를 반환합니다.\n",
        "    predicted_class = label_name[np.argmax(classifications[index])]  # classifications에서 가장 높은 확률을 가지는 클래스의 인덱스를 찾습니다.\n",
        "    print(f'예측 : {predicted_class}')  # 모델의 예측 결과를 출력합니다.\n",
        "\n",
        "    # 실제 클래스(레이블) 출력\n",
        "    true_class = label_name[test_labels[index]]  # 테스트 데이터의 실제 클래스(레이블)를 가져옵니다.\n",
        "    print(f'실제 : {true_class}')  # 실제 클래스(레이블)를 출력합니다.\n",
        "\n",
        "show_result2(12)"
      ],
      "metadata": {
        "colab": {
          "base_uri": "https://localhost:8080/",
          "height": 466
        },
        "id": "IH8IP3e30DkK",
        "outputId": "57feac89-e1f6-4382-fac8-d3afb7a396b7"
      },
      "execution_count": 17,
      "outputs": [
        {
          "output_type": "display_data",
          "data": {
            "text/plain": [
              "<Figure size 640x480 with 1 Axes>"
            ],
            "image/png": "[encoded data removed]"
          },
          "metadata": {}
        },
        {
          "output_type": "stream",
          "name": "stdout",
          "text": [
            "예측 : Bag\n",
            "실제 : Sneaker\n"
          ]
        }
      ]
    },
    {
      "cell_type": "code",
      "source": [],
      "metadata": {
        "id": "foudtqrE22Tp"
      },
      "execution_count": 17,
      "outputs": []
    }
  ],
  "metadata": {
    "accelerator": "GPU",
    "colab": {
      "gpuType": "T4",
      "provenance": []
    },
    "kernelspec": {
      "display_name": "Python 3",
      "name": "python3"
    },
    "language_info": {
      "name": "python"
    }
  },
  "nbformat": 4,
  "nbformat_minor": 0
}