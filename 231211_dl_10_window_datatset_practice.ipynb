{
  "cells": [
    {
      "cell_type": "code",
      "execution_count": 1,
      "metadata": {
        "id": "5BViRmoLuiUC"
      },
      "outputs": [],
      "source": [
        "import tensorflow as tf"
      ]
    },
    {
      "cell_type": "code",
      "execution_count": 2,
      "metadata": {
        "colab": {
          "base_uri": "https://localhost:8080/"
        },
        "id": "1S3gBdHmuybE",
        "outputId": "dac821de-4482-4feb-cdb5-a3769b11f39b"
      },
      "outputs": [
        {
          "output_type": "stream",
          "name": "stdout",
          "text": [
            "[0 1 2 3 4]\n",
            "[1 2 3 4 5]\n",
            "[2 3 4 5 6]\n",
            "[3 4 5 6 7]\n",
            "[4 5 6 7 8]\n",
            "[5 6 7 8 9]\n"
          ]
        }
      ],
      "source": [
        "# 0부터 9까지의 숫자로 구성된 데이터셋을 생성합니다.\n",
        "dataset = tf.data.Dataset.range(10)\n",
        "\n",
        "# 윈도우 함수를 사용하여 데이터를 윈도(창)로 분할합니다.\n",
        "# 윈도 크기: 5, 이동 간격: 1, 남는 부분은 버립니다. (drop_remainder=True)\n",
        "# 즉, 0~4, 1~5, 2~6, 3~7, 4~8 다섯 개의 윈도가 생성됩니다.\n",
        "dataset = dataset.window(5, shift=1, drop_remainder=True) # drop_remainder => 이동하고 남은 것들은 버리겠다!\n",
        "\n",
        "# flat_map 함수를 사용하여 각 윈도를 배치로 변환합니다.\n",
        "# 이렇게 하면 각 윈도를 텐서로 표현하지 않고 배치로 처리할 수 있습니다.\n",
        "dataset = dataset.flat_map(lambda window:window.batch(5))\n",
        "\n",
        "# 데이터셋의 각 윈도를 출력합니다.\n",
        "for window in dataset:\n",
        "    print(window.numpy())  # 각 윈도를 NumPy 배열로 변환하여 출력합니다."
      ]
    },
    {
      "cell_type": "code",
      "execution_count": 3,
      "metadata": {
        "colab": {
          "base_uri": "https://localhost:8080/"
        },
        "id": "hnzJxADXvpnL",
        "outputId": "6d3fa303-aff2-4068-b6bf-a72f756218fd"
      },
      "outputs": [
        {
          "output_type": "stream",
          "name": "stdout",
          "text": [
            "[0 1 2 3] 4\n",
            "[1 2 3 4] 5\n",
            "[2 3 4 5] 6\n",
            "[3 4 5 6] 7\n",
            "[4 5 6 7] 8\n",
            "[5 6 7 8] 9\n"
          ]
        }
      ],
      "source": [
        "dataset = tf.data.Dataset.range(10)\n",
        "dataset = dataset.window(5, shift=1, drop_remainder=True)\n",
        "dataset = dataset.flat_map(lambda window: window.batch(5))\n",
        "\n",
        "# 데이터셋의 각 윈도를 입력(x)과 출력(y)으로 나누고, 출력을 마지막 원소로 정의합니다.\n",
        "dataset = dataset.map(lambda window: (window[:-1], window[-1]))\n",
        "\n",
        "# 데이터셋을 순회하며 입력(x)과 출력(y)을 출력합니다.\n",
        "for x, y in dataset:\n",
        "    print(x.numpy(), y.numpy())  # 각 윈도를 NumPy 배열로 변환하여 출력합니다."
      ]
    },
    {
      "cell_type": "code",
      "execution_count": 5,
      "metadata": {
        "colab": {
          "base_uri": "https://localhost:8080/"
        },
        "id": "ahXxz287wSdY",
        "outputId": "65e28f82-59f3-4143-fa24-9f8d47a08df6"
      },
      "outputs": [
        {
          "output_type": "stream",
          "name": "stdout",
          "text": [
            "[[0 1 2 3]\n",
            " [4 5 6 7]] [[4]\n",
            " [8]]\n",
            "[[3 4 5 6]\n",
            " [2 3 4 5]] [[7]\n",
            " [6]]\n",
            "[[5 6 7 8]\n",
            " [1 2 3 4]] [[9]\n",
            " [5]]\n"
          ]
        }
      ],
      "source": [
        "dataset = tf.data.Dataset.range(10)\n",
        "dataset = dataset.window(5, shift=1, drop_remainder=True)\n",
        "dataset = dataset.flat_map(lambda window: window.batch(5))\n",
        "dataset = dataset.map(lambda window: (window[:-1], window[-1:]))\n",
        "\n",
        "# 데이터셋을 임의로 섞습니다. 버퍼 크기는 이 재배치를 얼마나 큰 범위에서 수행할지 결정합니다.\n",
        "dataset = dataset.shuffle(buffer_size=10)\n",
        "# 배치 크기를 2로 설정하고, 데이터를 미리 로드합니다.\n",
        "dataset = dataset.batch(2).prefetch(1)\n",
        "\n",
        "for x, y in dataset:\n",
        "    print(x.numpy(), y.numpy())"
      ]
    },
    {
      "cell_type": "code",
      "source": [],
      "metadata": {
        "id": "l9V0H6a9tppE"
      },
      "execution_count": null,
      "outputs": []
    }
  ],
  "metadata": {
    "colab": {
      "provenance": []
    },
    "kernelspec": {
      "display_name": "Python 3",
      "name": "python3"
    },
    "language_info": {
      "name": "python"
    }
  },
  "nbformat": 4,
  "nbformat_minor": 0
}